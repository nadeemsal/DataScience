{
 "cells": [
  {
   "cell_type": "markdown",
   "id": "4af9de4b",
   "metadata": {},
   "source": [
    "#    # Data Science Tools and Ecosystem\n"
   ]
  },
  {
   "cell_type": "markdown",
   "id": "0aba85f6",
   "metadata": {},
   "source": [
    "#### In this notebook, Data Science Tools and Ecosystem are summarized."
   ]
  },
  {
   "cell_type": "markdown",
   "id": "aece9847",
   "metadata": {},
   "source": [
    "# Languages used by data scientists are as follows\n",
    "- Python\n",
    "- Java\n",
    "- Scala\n",
    "- C++"
   ]
  },
  {
   "cell_type": "markdown",
   "id": "4dccd5fc",
   "metadata": {},
   "source": [
    "# Some of the commonly used libraries used by Data Scientists include:\n",
    " - Pandas\n",
    " - Numpy\n",
    " - Matplotlib\n",
    " - Plotly"
   ]
  },
  {
   "cell_type": "markdown",
   "id": "7d85f3a0",
   "metadata": {},
   "source": [
    "### Data Science tools\n",
    "| Data Science tools |\n",
    "| -------|\n",
    "| Jupyter note books |\n",
    "| R STudio | \n",
    "| Matlab |\n"
   ]
  },
  {
   "cell_type": "markdown",
   "id": "87ffe875",
   "metadata": {},
   "source": [
    "### Below are a few examples of evaluating arithmetic expressions in Python\n"
   ]
  },
  {
   "cell_type": "code",
   "execution_count": 9,
   "id": "7ae6f9fc",
   "metadata": {},
   "outputs": [
    {
     "data": {
      "text/plain": [
       "15"
      ]
     },
     "execution_count": 9,
     "metadata": {},
     "output_type": "execute_result"
    }
   ],
   "source": [
    "9+6"
   ]
  },
  {
   "cell_type": "code",
   "execution_count": 13,
   "id": "7d2d84df",
   "metadata": {},
   "outputs": [
    {
     "data": {
      "text/plain": [
       "3"
      ]
     },
     "execution_count": 13,
     "metadata": {},
     "output_type": "execute_result"
    }
   ],
   "source": [
    "8-5"
   ]
  },
  {
   "cell_type": "code",
   "execution_count": 14,
   "id": "c8821477",
   "metadata": {},
   "outputs": [
    {
     "data": {
      "text/plain": [
       "46"
      ]
     },
     "execution_count": 14,
     "metadata": {},
     "output_type": "execute_result"
    }
   ],
   "source": [
    "6+5*8"
   ]
  },
  {
   "cell_type": "code",
   "execution_count": 15,
   "id": "135d0b5d",
   "metadata": {},
   "outputs": [
    {
     "data": {
      "text/plain": [
       "17"
      ]
     },
     "execution_count": 15,
     "metadata": {},
     "output_type": "execute_result"
    }
   ],
   "source": [
    "(3*4)+5"
   ]
  },
  {
   "cell_type": "code",
   "execution_count": 20,
   "id": "67c8154d",
   "metadata": {},
   "outputs": [],
   "source": [
    "minutes = 200 % 60\n",
    "hours = 200 // 60"
   ]
  },
  {
   "cell_type": "code",
   "execution_count": 25,
   "id": "0fbd386d",
   "metadata": {},
   "outputs": [
    {
     "name": "stdout",
     "output_type": "stream",
     "text": [
      "3 hours 20 minutes\n"
     ]
    }
   ],
   "source": [
    "print (hours,\"hours\", minutes,\"minutes\")"
   ]
  },
  {
   "cell_type": "markdown",
   "id": "26602223",
   "metadata": {},
   "source": [
    "\n",
    "**Objectives**  \n",
    "1. Data Science languages\n",
    "2. Data science libraries\n",
    "3. Data science tools\n",
    "4. arithmatic expressions\n",
    "5. multiplications"
   ]
  },
  {
   "cell_type": "markdown",
   "id": "03630807",
   "metadata": {},
   "source": [
    "## Author\n",
    "Muhammad Nadeem"
   ]
  },
  {
   "cell_type": "code",
   "execution_count": null,
   "id": "a71f9dba",
   "metadata": {},
   "outputs": [],
   "source": []
  }
 ],
 "metadata": {
  "kernelspec": {
   "display_name": "Python 3 (ipykernel)",
   "language": "python",
   "name": "python3"
  },
  "language_info": {
   "codemirror_mode": {
    "name": "ipython",
    "version": 3
   },
   "file_extension": ".py",
   "mimetype": "text/x-python",
   "name": "python",
   "nbconvert_exporter": "python",
   "pygments_lexer": "ipython3",
   "version": "3.11.5"
  }
 },
 "nbformat": 4,
 "nbformat_minor": 5
}
